{
  "nbformat": 4,
  "nbformat_minor": 0,
  "metadata": {
    "colab": {
      "name": "Stock Price Prediction using Machine Learning.ipynb",
      "provenance": [],
      "collapsed_sections": []
    },
    "kernelspec": {
      "display_name": "Python 3",
      "name": "python3"
    },
    "language_info": {
      "name": "python"
    }
  },
  "cells": [
    {
      "cell_type": "markdown",
      "metadata": {
        "id": "mKhVz5rPtJs1"
      },
      "source": [
        "# Stock price prediction using LSTM"
      ]
    },
    {
      "cell_type": "code",
      "metadata": {
        "id": "23GlJk9HtLdF"
      },
      "source": [
        "import pandas as pd\n",
        "import numpy as np\n",
        "\n",
        "import matplotlib.pyplot as plt\n",
        "%matplotlib inline\n",
        "\n",
        "from matplotlib.pylab import rcParams\n",
        "rcParams['figure.figsize']= 20,10\n",
        "from keras.models import Sequential\n",
        "from keras.layers import LSTM, Dropout, Dense\n",
        "\n",
        "from sklearn.preprocessing import MinMaxScaler"
      ],
      "execution_count": 1,
      "outputs": []
    },
    {
      "cell_type": "code",
      "metadata": {
        "colab": {
          "base_uri": "https://localhost:8080/",
          "height": 195
        },
        "id": "Xu2tKO9nu0II",
        "outputId": "74133bd6-7776-4803-a7fa-f4d5c194df44"
      },
      "source": [
        "#  Read the dataset:\n",
        "df = pd.read_csv('NSE-Tata-Global-Beverages-Limited.csv')\n",
        "df.head()"
      ],
      "execution_count": 2,
      "outputs": [
        {
          "output_type": "execute_result",
          "data": {
            "text/html": [
              "<div>\n",
              "<style scoped>\n",
              "    .dataframe tbody tr th:only-of-type {\n",
              "        vertical-align: middle;\n",
              "    }\n",
              "\n",
              "    .dataframe tbody tr th {\n",
              "        vertical-align: top;\n",
              "    }\n",
              "\n",
              "    .dataframe thead th {\n",
              "        text-align: right;\n",
              "    }\n",
              "</style>\n",
              "<table border=\"1\" class=\"dataframe\">\n",
              "  <thead>\n",
              "    <tr style=\"text-align: right;\">\n",
              "      <th></th>\n",
              "      <th>Date</th>\n",
              "      <th>Open</th>\n",
              "      <th>High</th>\n",
              "      <th>Low</th>\n",
              "      <th>Last</th>\n",
              "      <th>Close</th>\n",
              "      <th>Total Trade Quantity</th>\n",
              "      <th>Turnover (Lacs)</th>\n",
              "    </tr>\n",
              "  </thead>\n",
              "  <tbody>\n",
              "    <tr>\n",
              "      <th>0</th>\n",
              "      <td>2018-10-08</td>\n",
              "      <td>208.00</td>\n",
              "      <td>222.25</td>\n",
              "      <td>206.85</td>\n",
              "      <td>216.00</td>\n",
              "      <td>215.15</td>\n",
              "      <td>4642146.0</td>\n",
              "      <td>10062.83</td>\n",
              "    </tr>\n",
              "    <tr>\n",
              "      <th>1</th>\n",
              "      <td>2018-10-05</td>\n",
              "      <td>217.00</td>\n",
              "      <td>218.60</td>\n",
              "      <td>205.90</td>\n",
              "      <td>210.25</td>\n",
              "      <td>209.20</td>\n",
              "      <td>3519515.0</td>\n",
              "      <td>7407.06</td>\n",
              "    </tr>\n",
              "    <tr>\n",
              "      <th>2</th>\n",
              "      <td>2018-10-04</td>\n",
              "      <td>223.50</td>\n",
              "      <td>227.80</td>\n",
              "      <td>216.15</td>\n",
              "      <td>217.25</td>\n",
              "      <td>218.20</td>\n",
              "      <td>1728786.0</td>\n",
              "      <td>3815.79</td>\n",
              "    </tr>\n",
              "    <tr>\n",
              "      <th>3</th>\n",
              "      <td>2018-10-03</td>\n",
              "      <td>230.00</td>\n",
              "      <td>237.50</td>\n",
              "      <td>225.75</td>\n",
              "      <td>226.45</td>\n",
              "      <td>227.60</td>\n",
              "      <td>1708590.0</td>\n",
              "      <td>3960.27</td>\n",
              "    </tr>\n",
              "    <tr>\n",
              "      <th>4</th>\n",
              "      <td>2018-10-01</td>\n",
              "      <td>234.55</td>\n",
              "      <td>234.60</td>\n",
              "      <td>221.05</td>\n",
              "      <td>230.30</td>\n",
              "      <td>230.90</td>\n",
              "      <td>1534749.0</td>\n",
              "      <td>3486.05</td>\n",
              "    </tr>\n",
              "  </tbody>\n",
              "</table>\n",
              "</div>"
            ],
            "text/plain": [
              "         Date    Open    High  ...   Close  Total Trade Quantity  Turnover (Lacs)\n",
              "0  2018-10-08  208.00  222.25  ...  215.15             4642146.0         10062.83\n",
              "1  2018-10-05  217.00  218.60  ...  209.20             3519515.0          7407.06\n",
              "2  2018-10-04  223.50  227.80  ...  218.20             1728786.0          3815.79\n",
              "3  2018-10-03  230.00  237.50  ...  227.60             1708590.0          3960.27\n",
              "4  2018-10-01  234.55  234.60  ...  230.90             1534749.0          3486.05\n",
              "\n",
              "[5 rows x 8 columns]"
            ]
          },
          "metadata": {
            "tags": []
          },
          "execution_count": 2
        }
      ]
    },
    {
      "cell_type": "code",
      "metadata": {
        "colab": {
          "base_uri": "https://localhost:8080/"
        },
        "id": "-Sa5Nkz7xKXn",
        "outputId": "9ed81463-9e32-4622-8acd-80b79781191f"
      },
      "source": [
        "df.info()"
      ],
      "execution_count": 3,
      "outputs": [
        {
          "output_type": "stream",
          "text": [
            "<class 'pandas.core.frame.DataFrame'>\n",
            "RangeIndex: 1235 entries, 0 to 1234\n",
            "Data columns (total 8 columns):\n",
            " #   Column                Non-Null Count  Dtype  \n",
            "---  ------                --------------  -----  \n",
            " 0   Date                  1235 non-null   object \n",
            " 1   Open                  1235 non-null   float64\n",
            " 2   High                  1235 non-null   float64\n",
            " 3   Low                   1235 non-null   float64\n",
            " 4   Last                  1235 non-null   float64\n",
            " 5   Close                 1235 non-null   float64\n",
            " 6   Total Trade Quantity  1235 non-null   float64\n",
            " 7   Turnover (Lacs)       1235 non-null   float64\n",
            "dtypes: float64(7), object(1)\n",
            "memory usage: 77.3+ KB\n"
          ],
          "name": "stdout"
        }
      ]
    },
    {
      "cell_type": "code",
      "metadata": {
        "colab": {
          "base_uri": "https://localhost:8080/",
          "height": 500
        },
        "id": "f4_wkegvwarg",
        "outputId": "71308671-0afa-4c01-8c2e-ee0662c43261"
      },
      "source": [
        "# Analyze the closing prices from dataframe:\n",
        "df[\"Date\"] = pd.to_datetime(df.Date, format = \"%Y-%m-%d\")\n",
        "df.index = df['Date']\n",
        "\n",
        "plt.figure(figsize=(16,8))\n",
        "plt.plot(df['Close'], label = 'Close Price History')"
      ],
      "execution_count": 4,
      "outputs": [
        {
          "output_type": "execute_result",
          "data": {
            "text/plain": [
              "[<matplotlib.lines.Line2D at 0x7f459eaa3990>]"
            ]
          },
          "metadata": {
            "tags": []
          },
          "execution_count": 4
        },
        {
          "output_type": "display_data",
          "data": {
            "image/png": "[encoded data removed]",
            "text/plain": [
              "<Figure size 1152x576 with 1 Axes>"
            ]
          },
          "metadata": {
            "tags": [],
            "needs_background": "light"
          }
        }
      ]
    },
    {
      "cell_type": "code",
      "metadata": {
        "colab": {
          "base_uri": "https://localhost:8080/"
        },
        "id": "o4MO5NJNyyhn",
        "outputId": "76650949-7563-42d2-8981-466269f1a75d"
      },
      "source": [
        "df.info()"
      ],
      "execution_count": 5,
      "outputs": [
        {
          "output_type": "stream",
          "text": [
            "<class 'pandas.core.frame.DataFrame'>\n",
            "DatetimeIndex: 1235 entries, 2018-10-08 to 2013-10-08\n",
            "Data columns (total 8 columns):\n",
            " #   Column                Non-Null Count  Dtype         \n",
            "---  ------                --------------  -----         \n",
            " 0   Date                  1235 non-null   datetime64[ns]\n",
            " 1   Open                  1235 non-null   float64       \n",
            " 2   High                  1235 non-null   float64       \n",
            " 3   Low                   1235 non-null   float64       \n",
            " 4   Last                  1235 non-null   float64       \n",
            " 5   Close                 1235 non-null   float64       \n",
            " 6   Total Trade Quantity  1235 non-null   float64       \n",
            " 7   Turnover (Lacs)       1235 non-null   float64       \n",
            "dtypes: datetime64[ns](1), float64(7)\n",
            "memory usage: 86.8 KB\n"
          ],
          "name": "stdout"
        }
      ]
    },
    {
      "cell_type": "code",
      "metadata": {
        "id": "qM8kfVpHzVvl"
      },
      "source": [
        "# Sort the dataset on date time and filter “Date” and “Close” columns:\n",
        "data = df.sort_index(ascending=True, axis=0)\n",
        "new_dataset = pd.DataFrame(index=range(0,len(df)), columns=['Date', 'Close'])\n",
        "\n",
        "for i in range(0, len(data)):\n",
        "  new_dataset['Date'][i] = data['Date'][i]\n",
        "  new_dataset['Close'][i] = data['Close'][i]"
      ],
      "execution_count": 6,
      "outputs": []
    },
    {
      "cell_type": "code",
      "metadata": {
        "colab": {
          "base_uri": "https://localhost:8080/",
          "height": 431
        },
        "id": "Kc_vH9M30xE5",
        "outputId": "6ba495c6-519a-4880-c0a9-f09979dcf44f"
      },
      "source": [
        "data"
      ],
      "execution_count": 7,
      "outputs": [
        {
          "output_type": "execute_result",
          "data": {
            "text/html": [
              "<div>\n",
              "<style scoped>\n",
              "    .dataframe tbody tr th:only-of-type {\n",
              "        vertical-align: middle;\n",
              "    }\n",
              "\n",
              "    .dataframe tbody tr th {\n",
              "        vertical-align: top;\n",
              "    }\n",
              "\n",
              "    .dataframe thead th {\n",
              "        text-align: right;\n",
              "    }\n",
              "</style>\n",
              "<table border=\"1\" class=\"dataframe\">\n",
              "  <thead>\n",
              "    <tr style=\"text-align: right;\">\n",
              "      <th></th>\n",
              "      <th>Date</th>\n",
              "      <th>Open</th>\n",
              "      <th>High</th>\n",
              "      <th>Low</th>\n",
              "      <th>Last</th>\n",
              "      <th>Close</th>\n",
              "      <th>Total Trade Quantity</th>\n",
              "      <th>Turnover (Lacs)</th>\n",
              "    </tr>\n",
              "    <tr>\n",
              "      <th>Date</th>\n",
              "      <th></th>\n",
              "      <th></th>\n",
              "      <th></th>\n",
              "      <th></th>\n",
              "      <th></th>\n",
              "      <th></th>\n",
              "      <th></th>\n",
              "      <th></th>\n",
              "    </tr>\n",
              "  </thead>\n",
              "  <tbody>\n",
              "    <tr>\n",
              "      <th>2013-10-08</th>\n",
              "      <td>2013-10-08</td>\n",
              "      <td>157.00</td>\n",
              "      <td>157.80</td>\n",
              "      <td>155.20</td>\n",
              "      <td>155.80</td>\n",
              "      <td>155.80</td>\n",
              "      <td>1720413.0</td>\n",
              "      <td>2688.94</td>\n",
              "    </tr>\n",
              "    <tr>\n",
              "      <th>2013-10-09</th>\n",
              "      <td>2013-10-09</td>\n",
              "      <td>155.70</td>\n",
              "      <td>158.20</td>\n",
              "      <td>154.15</td>\n",
              "      <td>155.30</td>\n",
              "      <td>155.55</td>\n",
              "      <td>2049580.0</td>\n",
              "      <td>3204.49</td>\n",
              "    </tr>\n",
              "    <tr>\n",
              "      <th>2013-10-10</th>\n",
              "      <td>2013-10-10</td>\n",
              "      <td>156.00</td>\n",
              "      <td>160.80</td>\n",
              "      <td>155.85</td>\n",
              "      <td>160.30</td>\n",
              "      <td>160.15</td>\n",
              "      <td>3124853.0</td>\n",
              "      <td>4978.80</td>\n",
              "    </tr>\n",
              "    <tr>\n",
              "      <th>2013-10-11</th>\n",
              "      <td>2013-10-11</td>\n",
              "      <td>161.15</td>\n",
              "      <td>163.45</td>\n",
              "      <td>159.00</td>\n",
              "      <td>159.80</td>\n",
              "      <td>160.05</td>\n",
              "      <td>1880046.0</td>\n",
              "      <td>3030.76</td>\n",
              "    </tr>\n",
              "    <tr>\n",
              "      <th>2013-10-14</th>\n",
              "      <td>2013-10-14</td>\n",
              "      <td>160.85</td>\n",
              "      <td>161.45</td>\n",
              "      <td>157.70</td>\n",
              "      <td>159.30</td>\n",
              "      <td>159.45</td>\n",
              "      <td>1281419.0</td>\n",
              "      <td>2039.09</td>\n",
              "    </tr>\n",
              "    <tr>\n",
              "      <th>...</th>\n",
              "      <td>...</td>\n",
              "      <td>...</td>\n",
              "      <td>...</td>\n",
              "      <td>...</td>\n",
              "      <td>...</td>\n",
              "      <td>...</td>\n",
              "      <td>...</td>\n",
              "      <td>...</td>\n",
              "    </tr>\n",
              "    <tr>\n",
              "      <th>2018-10-01</th>\n",
              "      <td>2018-10-01</td>\n",
              "      <td>234.55</td>\n",
              "      <td>234.60</td>\n",
              "      <td>221.05</td>\n",
              "      <td>230.30</td>\n",
              "      <td>230.90</td>\n",
              "      <td>1534749.0</td>\n",
              "      <td>3486.05</td>\n",
              "    </tr>\n",
              "    <tr>\n",
              "      <th>2018-10-03</th>\n",
              "      <td>2018-10-03</td>\n",
              "      <td>230.00</td>\n",
              "      <td>237.50</td>\n",
              "      <td>225.75</td>\n",
              "      <td>226.45</td>\n",
              "      <td>227.60</td>\n",
              "      <td>1708590.0</td>\n",
              "      <td>3960.27</td>\n",
              "    </tr>\n",
              "    <tr>\n",
              "      <th>2018-10-04</th>\n",
              "      <td>2018-10-04</td>\n",
              "      <td>223.50</td>\n",
              "      <td>227.80</td>\n",
              "      <td>216.15</td>\n",
              "      <td>217.25</td>\n",
              "      <td>218.20</td>\n",
              "      <td>1728786.0</td>\n",
              "      <td>3815.79</td>\n",
              "    </tr>\n",
              "    <tr>\n",
              "      <th>2018-10-05</th>\n",
              "      <td>2018-10-05</td>\n",
              "      <td>217.00</td>\n",
              "      <td>218.60</td>\n",
              "      <td>205.90</td>\n",
              "      <td>210.25</td>\n",
              "      <td>209.20</td>\n",
              "      <td>3519515.0</td>\n",
              "      <td>7407.06</td>\n",
              "    </tr>\n",
              "    <tr>\n",
              "      <th>2018-10-08</th>\n",
              "      <td>2018-10-08</td>\n",
              "      <td>208.00</td>\n",
              "      <td>222.25</td>\n",
              "      <td>206.85</td>\n",
              "      <td>216.00</td>\n",
              "      <td>215.15</td>\n",
              "      <td>4642146.0</td>\n",
              "      <td>10062.83</td>\n",
              "    </tr>\n",
              "  </tbody>\n",
              "</table>\n",
              "<p>1235 rows × 8 columns</p>\n",
              "</div>"
            ],
            "text/plain": [
              "                 Date    Open  ...  Total Trade Quantity  Turnover (Lacs)\n",
              "Date                           ...                                       \n",
              "2013-10-08 2013-10-08  157.00  ...             1720413.0          2688.94\n",
              "2013-10-09 2013-10-09  155.70  ...             2049580.0          3204.49\n",
              "2013-10-10 2013-10-10  156.00  ...             3124853.0          4978.80\n",
              "2013-10-11 2013-10-11  161.15  ...             1880046.0          3030.76\n",
              "2013-10-14 2013-10-14  160.85  ...             1281419.0          2039.09\n",
              "...               ...     ...  ...                   ...              ...\n",
              "2018-10-01 2018-10-01  234.55  ...             1534749.0          3486.05\n",
              "2018-10-03 2018-10-03  230.00  ...             1708590.0          3960.27\n",
              "2018-10-04 2018-10-04  223.50  ...             1728786.0          3815.79\n",
              "2018-10-05 2018-10-05  217.00  ...             3519515.0          7407.06\n",
              "2018-10-08 2018-10-08  208.00  ...             4642146.0         10062.83\n",
              "\n",
              "[1235 rows x 8 columns]"
            ]
          },
          "metadata": {
            "tags": []
          },
          "execution_count": 7
        }
      ]
    },
    {
      "cell_type": "code",
      "metadata": {
        "colab": {
          "base_uri": "https://localhost:8080/",
          "height": 402
        },
        "id": "bH8t65AM2Z74",
        "outputId": "ef9fe7ea-2a78-469a-a0ae-2822357e611a"
      },
      "source": [
        "new_dataset"
      ],
      "execution_count": 8,
      "outputs": [
        {
          "output_type": "execute_result",
          "data": {
            "text/html": [
              "<div>\n",
              "<style scoped>\n",
              "    .dataframe tbody tr th:only-of-type {\n",
              "        vertical-align: middle;\n",
              "    }\n",
              "\n",
              "    .dataframe tbody tr th {\n",
              "        vertical-align: top;\n",
              "    }\n",
              "\n",
              "    .dataframe thead th {\n",
              "        text-align: right;\n",
              "    }\n",
              "</style>\n",
              "<table border=\"1\" class=\"dataframe\">\n",
              "  <thead>\n",
              "    <tr style=\"text-align: right;\">\n",
              "      <th></th>\n",
              "      <th>Date</th>\n",
              "      <th>Close</th>\n",
              "    </tr>\n",
              "  </thead>\n",
              "  <tbody>\n",
              "    <tr>\n",
              "      <th>0</th>\n",
              "      <td>2013-10-08 00:00:00</td>\n",
              "      <td>155.8</td>\n",
              "    </tr>\n",
              "    <tr>\n",
              "      <th>1</th>\n",
              "      <td>2013-10-09 00:00:00</td>\n",
              "      <td>155.55</td>\n",
              "    </tr>\n",
              "    <tr>\n",
              "      <th>2</th>\n",
              "      <td>2013-10-10 00:00:00</td>\n",
              "      <td>160.15</td>\n",
              "    </tr>\n",
              "    <tr>\n",
              "      <th>3</th>\n",
              "      <td>2013-10-11 00:00:00</td>\n",
              "      <td>160.05</td>\n",
              "    </tr>\n",
              "    <tr>\n",
              "      <th>4</th>\n",
              "      <td>2013-10-14 00:00:00</td>\n",
              "      <td>159.45</td>\n",
              "    </tr>\n",
              "    <tr>\n",
              "      <th>...</th>\n",
              "      <td>...</td>\n",
              "      <td>...</td>\n",
              "    </tr>\n",
              "    <tr>\n",
              "      <th>1230</th>\n",
              "      <td>2018-10-01 00:00:00</td>\n",
              "      <td>230.9</td>\n",
              "    </tr>\n",
              "    <tr>\n",
              "      <th>1231</th>\n",
              "      <td>2018-10-03 00:00:00</td>\n",
              "      <td>227.6</td>\n",
              "    </tr>\n",
              "    <tr>\n",
              "      <th>1232</th>\n",
              "      <td>2018-10-04 00:00:00</td>\n",
              "      <td>218.2</td>\n",
              "    </tr>\n",
              "    <tr>\n",
              "      <th>1233</th>\n",
              "      <td>2018-10-05 00:00:00</td>\n",
              "      <td>209.2</td>\n",
              "    </tr>\n",
              "    <tr>\n",
              "      <th>1234</th>\n",
              "      <td>2018-10-08 00:00:00</td>\n",
              "      <td>215.15</td>\n",
              "    </tr>\n",
              "  </tbody>\n",
              "</table>\n",
              "<p>1235 rows × 2 columns</p>\n",
              "</div>"
            ],
            "text/plain": [
              "                     Date   Close\n",
              "0     2013-10-08 00:00:00   155.8\n",
              "1     2013-10-09 00:00:00  155.55\n",
              "2     2013-10-10 00:00:00  160.15\n",
              "3     2013-10-11 00:00:00  160.05\n",
              "4     2013-10-14 00:00:00  159.45\n",
              "...                   ...     ...\n",
              "1230  2018-10-01 00:00:00   230.9\n",
              "1231  2018-10-03 00:00:00   227.6\n",
              "1232  2018-10-04 00:00:00   218.2\n",
              "1233  2018-10-05 00:00:00   209.2\n",
              "1234  2018-10-08 00:00:00  215.15\n",
              "\n",
              "[1235 rows x 2 columns]"
            ]
          },
          "metadata": {
            "tags": []
          },
          "execution_count": 8
        }
      ]
    },
    {
      "cell_type": "code",
      "metadata": {
        "colab": {
          "base_uri": "https://localhost:8080/"
        },
        "id": "19nqcUU62lTs",
        "outputId": "3f52de9b-5b7c-4b8a-8081-4ca5ddfd8361"
      },
      "source": [
        "len(data)"
      ],
      "execution_count": 9,
      "outputs": [
        {
          "output_type": "execute_result",
          "data": {
            "text/plain": [
              "1235"
            ]
          },
          "metadata": {
            "tags": []
          },
          "execution_count": 9
        }
      ]
    },
    {
      "cell_type": "code",
      "metadata": {
        "colab": {
          "base_uri": "https://localhost:8080/"
        },
        "id": "zdwE8M3m21Fo",
        "outputId": "def4f216-f0e3-43e9-c1cb-0fe3de26126e"
      },
      "source": [
        "new_dataset['Date'][0]"
      ],
      "execution_count": 10,
      "outputs": [
        {
          "output_type": "execute_result",
          "data": {
            "text/plain": [
              "Timestamp('2013-10-08 00:00:00')"
            ]
          },
          "metadata": {
            "tags": []
          },
          "execution_count": 10
        }
      ]
    },
    {
      "cell_type": "code",
      "metadata": {
        "colab": {
          "base_uri": "https://localhost:8080/"
        },
        "id": "aXQxjhgp3IG6",
        "outputId": "608a44ea-8cef-43fe-f77a-e7d7b51c823e"
      },
      "source": [
        "data['Date'][0]"
      ],
      "execution_count": 11,
      "outputs": [
        {
          "output_type": "execute_result",
          "data": {
            "text/plain": [
              "Timestamp('2013-10-08 00:00:00')"
            ]
          },
          "metadata": {
            "tags": []
          },
          "execution_count": 11
        }
      ]
    },
    {
      "cell_type": "code",
      "metadata": {
        "colab": {
          "base_uri": "https://localhost:8080/"
        },
        "id": "8KnkRphE3VNY",
        "outputId": "687d02ea-9752-49f8-c1c9-7bcf641b0c4c"
      },
      "source": [
        "new_dataset['Close'][40]"
      ],
      "execution_count": 12,
      "outputs": [
        {
          "output_type": "execute_result",
          "data": {
            "text/plain": [
              "146.65"
            ]
          },
          "metadata": {
            "tags": []
          },
          "execution_count": 12
        }
      ]
    },
    {
      "cell_type": "code",
      "metadata": {
        "colab": {
          "base_uri": "https://localhost:8080/"
        },
        "id": "yfDhTubV3hh4",
        "outputId": "4baad49e-92fa-465d-f073-49b3520a707e"
      },
      "source": [
        "data['Close'][40]"
      ],
      "execution_count": 13,
      "outputs": [
        {
          "output_type": "execute_result",
          "data": {
            "text/plain": [
              "146.65"
            ]
          },
          "metadata": {
            "tags": []
          },
          "execution_count": 13
        }
      ]
    },
    {
      "cell_type": "code",
      "metadata": {
        "colab": {
          "base_uri": "https://localhost:8080/"
        },
        "id": "dd4AY58mDZma",
        "outputId": "572d1463-7b7b-413a-9105-30cd1bdfff52"
      },
      "source": [
        "new_dataset.values "
      ],
      "execution_count": 14,
      "outputs": [
        {
          "output_type": "execute_result",
          "data": {
            "text/plain": [
              "array([[Timestamp('2013-10-08 00:00:00'), 155.8],\n",
              "       [Timestamp('2013-10-09 00:00:00'), 155.55],\n",
              "       [Timestamp('2013-10-10 00:00:00'), 160.15],\n",
              "       ...,\n",
              "       [Timestamp('2018-10-04 00:00:00'), 218.2],\n",
              "       [Timestamp('2018-10-05 00:00:00'), 209.2],\n",
              "       [Timestamp('2018-10-08 00:00:00'), 215.15]], dtype=object)"
            ]
          },
          "metadata": {
            "tags": []
          },
          "execution_count": 14
        }
      ]
    },
    {
      "cell_type": "code",
      "metadata": {
        "id": "8HwUPQNe7aCu"
      },
      "source": [
        "# Normalize the new filtered dataset:\n",
        "scaler = MinMaxScaler(feature_range=(0,1)) \n",
        "final_dataset = new_dataset['Close'].values\n",
        "\n",
        "train_data = final_dataset[0:987]\n",
        "valid_data = final_dataset[987:]\n",
        "\n",
        "new_dataset.index = new_dataset.Date \n",
        "new_dataset.drop(\"Date\",axis=1,inplace=True)\n",
        "scaler = MinMaxScaler(feature_range=(0,1))\n",
        "scaled_data = scaler.fit_transform(np.array(final_dataset).reshape(-1,1))\n",
        "\n",
        "x_train_data, y_train_data = [], []\n",
        "\n",
        "for i in range(60,len(train_data)): \n",
        "  x_train_data.append(scaled_data[i-60:i,0]) \n",
        "  y_train_data.append(scaled_data[i,0])\n",
        "\n",
        "x_train_data,y_train_data = np.array(x_train_data),np.array(y_train_data)\n",
        "\n",
        "x_train_data = np.reshape(x_train_data,(x_train_data.shape[0],x_train_data.shape[1],1))"
      ],
      "execution_count": 15,
      "outputs": []
    },
    {
      "cell_type": "code",
      "metadata": {
        "colab": {
          "base_uri": "https://localhost:8080/"
        },
        "id": "A3baSXw88Jux",
        "outputId": "28b84b4b-9d9f-4856-f06b-6fd76f0b94b6"
      },
      "source": [
        "final_dataset"
      ],
      "execution_count": 16,
      "outputs": [
        {
          "output_type": "execute_result",
          "data": {
            "text/plain": [
              "array([155.8, 155.55, 160.15, ..., 218.2, 209.2, 215.15], dtype=object)"
            ]
          },
          "metadata": {
            "tags": []
          },
          "execution_count": 16
        }
      ]
    },
    {
      "cell_type": "code",
      "metadata": {
        "colab": {
          "base_uri": "https://localhost:8080/"
        },
        "id": "YFdlOWq8G1CB",
        "outputId": "7be2c618-1509-47c6-c72c-aa8bc080f428"
      },
      "source": [
        "final_dataset"
      ],
      "execution_count": 17,
      "outputs": [
        {
          "output_type": "execute_result",
          "data": {
            "text/plain": [
              "array([155.8, 155.55, 160.15, ..., 218.2, 209.2, 215.15], dtype=object)"
            ]
          },
          "metadata": {
            "tags": []
          },
          "execution_count": 17
        }
      ]
    },
    {
      "cell_type": "code",
      "metadata": {
        "colab": {
          "base_uri": "https://localhost:8080/"
        },
        "id": "WgU99Z73G7iC",
        "outputId": "551f06c4-c9aa-4583-b49f-0cb2b5c003a1"
      },
      "source": [
        "scaled_data"
      ],
      "execution_count": 18,
      "outputs": [
        {
          "output_type": "execute_result",
          "data": {
            "text/plain": [
              "array([[0.23823398],\n",
              "       [0.2371134 ],\n",
              "       [0.25773196],\n",
              "       ...,\n",
              "       [0.51792918],\n",
              "       [0.47758853],\n",
              "       [0.50425818]])"
            ]
          },
          "metadata": {
            "tags": []
          },
          "execution_count": 18
        }
      ]
    },
    {
      "cell_type": "code",
      "metadata": {
        "colab": {
          "base_uri": "https://localhost:8080/"
        },
        "id": "OvYXYHKeHBJE",
        "outputId": "2eae8eb2-610c-4af7-95d9-50b5e7cef6ec"
      },
      "source": [
        "x_train_data, "
      ],
      "execution_count": 19,
      "outputs": [
        {
          "output_type": "execute_result",
          "data": {
            "text/plain": [
              "(array([[[0.23823398],\n",
              "         [0.2371134 ],\n",
              "         [0.25773196],\n",
              "         ...,\n",
              "         [0.25907665],\n",
              "         [0.25930076],\n",
              "         [0.23442403]],\n",
              " \n",
              "        [[0.2371134 ],\n",
              "         [0.25773196],\n",
              "         [0.25728373],\n",
              "         ...,\n",
              "         [0.25930076],\n",
              "         [0.23442403],\n",
              "         [0.24069924]],\n",
              " \n",
              "        [[0.25773196],\n",
              "         [0.25728373],\n",
              "         [0.25459435],\n",
              "         ...,\n",
              "         [0.23442403],\n",
              "         [0.24069924],\n",
              "         [0.24271627]],\n",
              " \n",
              "        ...,\n",
              " \n",
              "        [[0.24697445],\n",
              "         [0.28641865],\n",
              "         [0.29964142],\n",
              "         ...,\n",
              "         [0.45047064],\n",
              "         [0.46234872],\n",
              "         [0.46526221]],\n",
              " \n",
              "        [[0.28641865],\n",
              "         [0.29964142],\n",
              "         [0.31869117],\n",
              "         ...,\n",
              "         [0.46234872],\n",
              "         [0.46526221],\n",
              "         [0.45853877]],\n",
              " \n",
              "        [[0.29964142],\n",
              "         [0.31869117],\n",
              "         [0.32608696],\n",
              "         ...,\n",
              "         [0.46526221],\n",
              "         [0.45853877],\n",
              "         [0.4787091 ]]]),)"
            ]
          },
          "metadata": {
            "tags": []
          },
          "execution_count": 19
        }
      ]
    },
    {
      "cell_type": "code",
      "metadata": {
        "colab": {
          "base_uri": "https://localhost:8080/"
        },
        "id": "RKVb3WSZHHUY",
        "outputId": "42bc4f4b-0ea5-4988-f272-7da080f0aa41"
      },
      "source": [
        "y_train_data"
      ],
      "execution_count": 20,
      "outputs": [
        {
          "output_type": "execute_result",
          "data": {
            "text/plain": [
              "array([0.24069924, 0.24271627, 0.24137158, 0.24406096, 0.2447333 ,\n",
              "       0.23890632, 0.22523532, 0.22142537, 0.22142537, 0.20797848,\n",
              "       0.19520394, 0.20461676, 0.20259973, 0.21156432, 0.20416853,\n",
              "       0.18646347, 0.17346481, 0.16270731, 0.17705065, 0.16943075,\n",
              "       0.17189601, 0.17055132, 0.18153294, 0.18108472, 0.17256835,\n",
              "       0.1824294 , 0.18354998, 0.18915285, 0.18556701, 0.17525773,\n",
              "       0.16987898, 0.16248319, 0.16831017, 0.16898252, 0.17234424,\n",
              "       0.17637831, 0.17951591, 0.17279247, 0.16651726, 0.16606903,\n",
              "       0.14926042, 0.16920663, 0.17144778, 0.17884357, 0.18220529,\n",
              "       0.18444644, 0.19049753, 0.19273868, 0.17884357, 0.17951591,\n",
              "       0.18153294, 0.1732407 , 0.17368893, 0.18265352, 0.18377409,\n",
              "       0.18018826, 0.18041237, 0.17974003, 0.17548185, 0.20327208,\n",
              "       0.21246078, 0.23128642, 0.2279247 , 0.21918422, 0.22209771,\n",
              "       0.21873599, 0.23195876, 0.22613178, 0.22456298, 0.22590766,\n",
              "       0.21447781, 0.24562976, 0.23980278, 0.24742268, 0.23957866,\n",
              "       0.22545944, 0.22501121, 0.21806365, 0.2097714 , 0.20484088,\n",
              "       0.19744509, 0.19027342, 0.18803227, 0.17839534, 0.18982519,\n",
              "       0.18780816, 0.1961004 , 0.20013447, 0.18623935, 0.18870462,\n",
              "       0.21537427, 0.22770058, 0.22613178, 0.2371134 , 0.24607799,\n",
              "       0.24114747, 0.24092335, 0.24025101, 0.20730614, 0.2082026 ,\n",
              "       0.20103093, 0.21358135, 0.22568355, 0.23038996, 0.30681309,\n",
              "       0.30726132, 0.32362169, 0.29896907, 0.29583147, 0.27364411,\n",
              "       0.28395338, 0.28865979, 0.27297176, 0.27005827, 0.26759301,\n",
              "       0.29269386, 0.28978037, 0.29964142, 0.29202152, 0.30681309,\n",
              "       0.31420887, 0.32339758, 0.32138055, 0.29829673, 0.29224563,\n",
              "       0.28865979, 0.25123263, 0.23442403, 0.23666517, 0.21134021,\n",
              "       0.2203048 , 0.22904527, 0.24450919, 0.25862842, 0.25997311,\n",
              "       0.25347378, 0.25123263, 0.24271627, 0.2415957 , 0.2279247 ,\n",
              "       0.2355446 , 0.22523532, 0.2279247 , 0.23151053, 0.23688929,\n",
              "       0.23419991, 0.22926939, 0.23083819, 0.21515016, 0.22075303,\n",
              "       0.23218288, 0.2173913 , 0.22164948, 0.23195876, 0.24137158,\n",
              "       0.25033617, 0.24406096, 0.23666517, 0.23666517, 0.22545944,\n",
              "       0.22613178, 0.21447781, 0.22971762, 0.23644106, 0.23128642,\n",
              "       0.26692066, 0.26714478, 0.27767817, 0.28036755, 0.26848947,\n",
              "       0.2902286 , 0.29986553, 0.28933214, 0.25459435, 0.26423129,\n",
              "       0.27879874, 0.29560735, 0.30457194, 0.27700583, 0.27835052,\n",
              "       0.2584043 , 0.25549081, 0.25257732, 0.25414612, 0.25190498,\n",
              "       0.25168086, 0.25818019, 0.26266248, 0.25818019, 0.24585388,\n",
              "       0.24092335, 0.22277006, 0.22725235, 0.23330345, 0.2371134 ,\n",
              "       0.24137158, 0.24966383, 0.24047512, 0.24069924, 0.24495742,\n",
              "       0.24562976, 0.25750784, 0.27386822, 0.2644554 , 0.26109368,\n",
              "       0.24697445, 0.2492156 , 0.23845809, 0.2310623 , 0.23576871,\n",
              "       0.25661139, 0.25437024, 0.24742268, 0.24338861, 0.24249216,\n",
              "       0.24338861, 0.2310623 , 0.23599283, 0.26154191, 0.2628866 ,\n",
              "       0.25504258, 0.2720753 , 0.27162707, 0.27229942, 0.26199014,\n",
              "       0.24943971, 0.2339758 , 0.23913043, 0.23756163, 0.22545944,\n",
              "       0.21940834, 0.18646347, 0.18982519, 0.20103093, 0.2005827 ,\n",
              "       0.20103093, 0.20461676, 0.19834155, 0.19811744, 0.20618557,\n",
              "       0.20797848, 0.21649485, 0.21537427, 0.2234424 , 0.22545944,\n",
              "       0.20394442, 0.20528911, 0.22882116, 0.23733752, 0.24518153,\n",
              "       0.23576871, 0.2339758 , 0.23756163, 0.23151053, 0.2415957 ,\n",
              "       0.24069924, 0.24809502, 0.25190498, 0.26221425, 0.25437024,\n",
              "       0.25145675, 0.2492156 , 0.25123263, 0.27319588, 0.25907665,\n",
              "       0.25056029, 0.23352757, 0.22299417, 0.21021963, 0.21918422,\n",
              "       0.23173465, 0.2355446 , 0.24540565, 0.23532048, 0.24294039,\n",
              "       0.24361273, 0.25571493, 0.23890632, 0.2371134 , 0.2279247 ,\n",
              "       0.22366652, 0.23935455, 0.23419991, 0.24966383, 0.27297176,\n",
              "       0.24966383, 0.25392201, 0.25280143, 0.2447333 , 0.24742268,\n",
              "       0.25705961, 0.2339758 , 0.23352757, 0.24226804, 0.23845809,\n",
              "       0.2294935 , 0.21201255, 0.19968624, 0.20304796, 0.20775437,\n",
              "       0.20013447, 0.19318691, 0.21111609, 0.20685791, 0.21716719,\n",
              "       0.21873599, 0.21716719, 0.21940834, 0.22142537, 0.26243837,\n",
              "       0.26378306, 0.2523532 , 0.25392201, 0.24607799, 0.22680412,\n",
              "       0.21313312, 0.21066786, 0.21313312, 0.19991035, 0.17705065,\n",
              "       0.17615419, 0.17884357, 0.17682654, 0.18332586, 0.18780816,\n",
              "       0.16651726, 0.15732855, 0.17212013, 0.1824294 , 0.18018826,\n",
              "       0.18780816, 0.19565217, 0.2005827 , 0.20304796, 0.20125504,\n",
              "       0.19408337, 0.19722098, 0.20304796, 0.20080681, 0.20685791,\n",
              "       0.20640968, 0.18937696, 0.19542806, 0.19049753, 0.17099955,\n",
              "       0.15553563, 0.15732855, 0.16069027, 0.1443299 , 0.15643209,\n",
              "       0.15217391, 0.14231286, 0.11429852, 0.1185567 , 0.11676378,\n",
              "       0.13312416, 0.13424473, 0.13939937, 0.14500224, 0.1398476 ,\n",
              "       0.13693411, 0.14813985, 0.1398476 , 0.12057373, 0.13245182,\n",
              "       0.1474675 , 0.15441506, 0.14993277, 0.14500224, 0.15934558,\n",
              "       0.14455401, 0.14029583, 0.14298521, 0.15307037, 0.15419095,\n",
              "       0.15912147, 0.15844913, 0.16293142, 0.17525773, 0.15620798,\n",
              "       0.16517257, 0.17122367, 0.17099955, 0.15643209, 0.15598386,\n",
              "       0.16136262, 0.15463918, 0.16831017, 0.17122367, 0.18220529,\n",
              "       0.17705065, 0.18422232, 0.17615419, 0.16270731, 0.15710444,\n",
              "       0.13626177, 0.12259077, 0.13200359, 0.12707306, 0.14119229,\n",
              "       0.13962349, 0.13558942, 0.12438368, 0.054684  , 0.06678619,\n",
              "       0.06566562, 0.06140744, 0.06947557, 0.0759749 , 0.0562528 ,\n",
              "       0.07261318, 0.09636934, 0.07866428, 0.07978485, 0.082026  ,\n",
              "       0.09412819, 0.09457642, 0.09233528, 0.09592111, 0.10197221,\n",
              "       0.09166293, 0.10219632, 0.10242044, 0.09524877, 0.10017929,\n",
              "       0.09659346, 0.10959211, 0.10735096, 0.11272972, 0.12281488,\n",
              "       0.13088301, 0.12505603, 0.13626177, 0.13760645, 0.14365755,\n",
              "       0.14298521, 0.13290004, 0.14051995, 0.14365755, 0.14051995,\n",
              "       0.14365755, 0.16472434, 0.15643209, 0.15755267, 0.16248319,\n",
              "       0.14858808, 0.14769162, 0.14903631, 0.13805468, 0.13446885,\n",
              "       0.13043478, 0.13043478, 0.11362618, 0.10398924, 0.11721201,\n",
              "       0.1033169 , 0.11317795, 0.11362618, 0.11429852, 0.1337965 ,\n",
              "       0.1169879 , 0.12662483, 0.13962349, 0.13581354, 0.14208875,\n",
              "       0.14477813, 0.15374272, 0.15643209, 0.15060511, 0.150381  ,\n",
              "       0.14455401, 0.13895114, 0.14657104, 0.14500224, 0.1322277 ,\n",
              "       0.14634693, 0.13693411, 0.14208875, 0.1398476 , 0.1519498 ,\n",
              "       0.17727476, 0.17593008, 0.18041237, 0.17279247, 0.17637831,\n",
              "       0.18892873, 0.18556701, 0.17593008, 0.19587629, 0.19520394,\n",
              "       0.1961004 , 0.18399821, 0.20484088, 0.19094576, 0.16763783,\n",
              "       0.18735993, 0.17593008, 0.16517257, 0.14769162, 0.14074406,\n",
              "       0.11586732, 0.08606006, 0.1064545 , 0.08919767, 0.08561183,\n",
              "       0.10264455, 0.09704169, 0.09771403, 0.09188705, 0.10690273,\n",
              "       0.10735096, 0.09681757, 0.08561183, 0.08493949, 0.08897355,\n",
              "       0.09524877, 0.08112954, 0.07037203, 0.01165397, 0.00739579,\n",
              "       0.01501569, 0.        , 0.0060511 , 0.00851636, 0.02084267,\n",
              "       0.0289108 , 0.01792918, 0.01815329, 0.01591215, 0.00941282,\n",
              "       0.00403407, 0.02801434, 0.03249664, 0.03070372, 0.04751233,\n",
              "       0.05826983, 0.06364859, 0.06185567, 0.05916629, 0.05826983,\n",
              "       0.05737338, 0.05580457, 0.05894218, 0.07283729, 0.07731959,\n",
              "       0.08404303, 0.07530255, 0.07507844, 0.07463021, 0.08404303,\n",
              "       0.08337069, 0.08919767, 0.08314657, 0.0699238 , 0.07261318,\n",
              "       0.07194083, 0.06745854, 0.07552667, 0.07037203, 0.08068131,\n",
              "       0.07776782, 0.08606006, 0.07821605, 0.07888839, 0.08314657,\n",
              "       0.08583595, 0.08852532, 0.07911251, 0.07799193, 0.08269834,\n",
              "       0.07530255, 0.06409682, 0.06140744, 0.06925146, 0.07216495,\n",
              "       0.06969969, 0.06566562, 0.07306141, 0.07575078, 0.08068131,\n",
              "       0.07933662, 0.082026  , 0.0775437 , 0.07799193, 0.07956074,\n",
              "       0.08561183, 0.07552667, 0.0714926 , 0.06566562, 0.06857911,\n",
              "       0.06768265, 0.06902734, 0.0744061 , 0.07866428, 0.07463021,\n",
              "       0.07485433, 0.09748991, 0.09995518, 0.09412819, 0.11429852,\n",
              "       0.10690273, 0.10914388, 0.10510982, 0.1033169 , 0.10533393,\n",
              "       0.10219632, 0.11026446, 0.10802331, 0.09681757, 0.10443747,\n",
              "       0.11295383, 0.12124608, 0.12796952, 0.14455401, 0.14096818,\n",
              "       0.14007172, 0.14253698, 0.13424473, 0.13648588, 0.13558942,\n",
              "       0.1322277 , 0.13424473, 0.13424473, 0.12236665, 0.12281488,\n",
              "       0.1398476 , 0.1306589 , 0.12931421, 0.13805468, 0.12774541,\n",
              "       0.15598386, 0.16808606, 0.17705065, 0.17189601, 0.16024204,\n",
              "       0.14836396, 0.15979381, 0.16337965, 0.18041237, 0.18198117,\n",
              "       0.15732855, 0.15531152, 0.15374272, 0.15867324, 0.15688032,\n",
              "       0.16225908, 0.17301658, 0.16024204, 0.1656208 , 0.16853429,\n",
              "       0.16943075, 0.16696549, 0.16293142, 0.16831017, 0.16853429,\n",
              "       0.17234424, 0.17458539, 0.17525773, 0.17727476, 0.17727476,\n",
              "       0.16606903, 0.14634693, 0.15598386, 0.15396683, 0.16674137,\n",
              "       0.16696549, 0.15844913, 0.15867324, 0.16248319, 0.17817122,\n",
              "       0.17032721, 0.18780816, 0.19766921, 0.15396683, 0.1656208 ,\n",
              "       0.17794711, 0.17548185, 0.22702824, 0.21627073, 0.21783953,\n",
              "       0.21963245, 0.20259973, 0.22658001, 0.21335724, 0.22075303,\n",
              "       0.23285522, 0.22277006, 0.2234424 , 0.23038996, 0.21223667,\n",
              "       0.19161811, 0.15732855, 0.1671896 , 0.16472434, 0.1611385 ,\n",
              "       0.14477813, 0.12864186, 0.10847154, 0.11362618, 0.11116091,\n",
              "       0.08628418, 0.10197221, 0.07171672, 0.06432093, 0.0835948 ,\n",
              "       0.0714926 , 0.07821605, 0.05826983, 0.06566562, 0.06723442,\n",
              "       0.05580457, 0.07104437, 0.082026  , 0.08650829, 0.09502465,\n",
              "       0.08628418, 0.08471537, 0.09412819, 0.09300762, 0.0880771 ,\n",
              "       0.09502465, 0.09524877, 0.09278351, 0.09278351, 0.09009413,\n",
              "       0.09771403, 0.09704169, 0.09704169, 0.08337069, 0.08493949,\n",
              "       0.07507844, 0.07261318, 0.06432093, 0.08023308, 0.0759749 ,\n",
              "       0.08269834, 0.08673241, 0.09367996, 0.09771403, 0.09771403,\n",
              "       0.10107575, 0.09861049, 0.09905872, 0.09771403, 0.11160914,\n",
              "       0.10085164, 0.11519498, 0.11205737, 0.11183326, 0.11653967,\n",
              "       0.12483191, 0.1064545 , 0.11317795, 0.11564321, 0.11519498,\n",
              "       0.11900493, 0.1246078 , 0.11743613, 0.123039  , 0.15688032,\n",
              "       0.17570596, 0.17974003, 0.1748095 , 0.19497983, 0.18489467,\n",
              "       0.18511878, 0.17615419, 0.17279247, 0.16181085, 0.16786195,\n",
              "       0.16808606, 0.17458539, 0.17458539, 0.16741372, 0.16405199,\n",
              "       0.16248319, 0.15867324, 0.18354998, 0.17234424, 0.1824294 ,\n",
              "       0.18198117, 0.17974003, 0.17368893, 0.17099955, 0.15441506,\n",
              "       0.16517257, 0.17144778, 0.1884805 , 0.18892873, 0.19632452,\n",
              "       0.19385926, 0.18130883, 0.21940834, 0.2173913 , 0.20596145,\n",
              "       0.21470193, 0.21492604, 0.21290901, 0.21470193, 0.22075303,\n",
              "       0.22411475, 0.22590766, 0.21492604, 0.21649485, 0.22747647,\n",
              "       0.22008068, 0.21447781, 0.2097714 , 0.20394442, 0.21313312,\n",
              "       0.2218736 , 0.21806365, 0.22097714, 0.21985657, 0.22904527,\n",
              "       0.22164948, 0.22613178, 0.24675034, 0.24002689, 0.23621694,\n",
              "       0.22254594, 0.22389063, 0.23038996, 0.2339758 , 0.23016584,\n",
              "       0.22411475, 0.23285522, 0.23218288, 0.22501121, 0.20103093,\n",
              "       0.20999552, 0.20237562, 0.18870462, 0.17503362, 0.18108472,\n",
              "       0.19834155, 0.19161811, 0.19229045, 0.20954729, 0.22299417,\n",
              "       0.2339758 , 0.23442403, 0.22568355, 0.2371134 , 0.23285522,\n",
              "       0.23195876, 0.22164948, 0.24114747, 0.25011206, 0.25302555,\n",
              "       0.24899148, 0.24092335, 0.24294039, 0.24271627, 0.23352757,\n",
              "       0.2173913 , 0.20035858, 0.20842671, 0.20551322, 0.21515016,\n",
              "       0.21940834, 0.21246078, 0.23980278, 0.22725235, 0.24697445,\n",
              "       0.28641865, 0.29964142, 0.31869117, 0.32608696, 0.3207082 ,\n",
              "       0.33325863, 0.31869117, 0.32496638, 0.30770955, 0.31174361,\n",
              "       0.30188256, 0.3070372 , 0.31174361, 0.29471089, 0.29807261,\n",
              "       0.29986553, 0.29067683, 0.27991932, 0.28686688, 0.28597042,\n",
              "       0.3038996 , 0.28395338, 0.26647243, 0.23913043, 0.27588525,\n",
              "       0.34110264, 0.4087853 , 0.39421784, 0.41125056, 0.41909458,\n",
              "       0.39085612, 0.42088749, 0.41057822, 0.40632004, 0.39309727,\n",
              "       0.42312864, 0.42738682, 0.4255939 , 0.40632004, 0.42155984,\n",
              "       0.46302107, 0.46212461, 0.46727925, 0.47781264, 0.49036307,\n",
              "       0.46907216, 0.49036307, 0.48363962, 0.49596593, 0.50896459,\n",
              "       0.49775885, 0.49103541, 0.44150605, 0.42133572, 0.45719408,\n",
              "       0.4300762 , 0.45047064, 0.46234872, 0.46526221, 0.45853877,\n",
              "       0.4787091 , 0.47938144])"
            ]
          },
          "metadata": {
            "tags": []
          },
          "execution_count": 20
        }
      ]
    },
    {
      "cell_type": "code",
      "metadata": {
        "colab": {
          "base_uri": "https://localhost:8080/"
        },
        "id": "z-RMZzeq9o5Y",
        "outputId": "9b528655-e0e2-45b1-8c07-53bc5c097176"
      },
      "source": [
        "train_data"
      ],
      "execution_count": 21,
      "outputs": [
        {
          "output_type": "execute_result",
          "data": {
            "text/plain": [
              "array([155.8, 155.55, 160.15, 160.05, 159.45, 158.05, 162.0, 164.2, 159.6,\n",
              "       161.85, 158.75, 165.45, 163.85, 163.25, 162.4, 165.0, 164.0, 167.7,\n",
              "       169.5, 167.6, 163.55, 160.35, 160.1, 156.55, 154.55, 144.3, 143.95,\n",
              "       147.7, 144.55, 145.35, 143.65, 141.8, 142.4, 145.5, 145.05, 147.65,\n",
              "       148.9, 149.3, 146.8, 145.55, 146.65, 146.2, 146.7, 147.45, 147.0,\n",
              "       146.75, 145.15, 143.45, 144.75, 148.2, 147.5, 153.1, 154.7, 157.25,\n",
              "       161.05, 158.05, 159.8, 160.45, 160.5, 154.95, 156.35, 156.8, 156.5,\n",
              "       157.1, 157.25, 155.95, 152.9, 152.05, 152.05, 149.05, 146.2, 148.3,\n",
              "       147.85, 149.85, 148.2, 144.25, 141.35, 138.95, 142.15, 140.45,\n",
              "       141.0, 140.7, 143.15, 143.05, 141.15, 143.35, 143.6, 144.85,\n",
              "       144.05, 141.75, 140.55, 138.9, 140.2, 140.35, 141.1, 142.0, 142.7,\n",
              "       141.2, 139.8, 139.7, 135.95, 140.4, 140.9, 142.55, 143.3, 143.8,\n",
              "       145.15, 145.65, 142.55, 142.7, 143.15, 141.3, 141.4, 143.4, 143.65,\n",
              "       142.85, 142.9, 142.75, 141.8, 148.0, 150.05, 154.25, 153.5, 151.55,\n",
              "       152.2, 151.45, 154.4, 153.1, 152.75, 153.05, 150.5, 157.45, 156.15,\n",
              "       157.85, 156.1, 152.95, 152.85, 151.3, 149.45, 148.35, 146.7, 145.1,\n",
              "       144.6, 142.45, 145.0, 144.55, 146.4, 147.3, 144.2, 144.75, 150.7,\n",
              "       153.45, 153.1, 155.55, 157.55, 156.45, 156.4, 156.25, 148.9, 149.1,\n",
              "       147.5, 150.3, 153.0, 154.05, 171.1, 171.2, 174.85, 169.35, 168.65,\n",
              "       163.7, 166.0, 167.05, 163.55, 162.9, 162.35, 167.95, 167.3, 169.5,\n",
              "       167.8, 171.1, 172.75, 174.8, 174.35, 169.2, 167.85, 167.05, 158.7,\n",
              "       154.95, 155.45, 149.8, 151.8, 153.75, 157.2, 160.35, 160.65, 159.2,\n",
              "       158.7, 156.8, 156.55, 153.5, 155.2, 152.9, 153.5, 154.3, 155.5,\n",
              "       154.9, 153.8, 154.15, 150.65, 151.9, 154.45, 151.15, 152.1, 154.4,\n",
              "       156.5, 158.5, 157.1, 155.45, 155.45, 152.95, 153.1, 150.5, 153.9,\n",
              "       155.4, 154.25, 162.2, 162.25, 164.6, 165.2, 162.55, 167.4, 169.55,\n",
              "       167.2, 159.45, 161.6, 164.85, 168.6, 170.6, 164.45, 164.75, 160.3,\n",
              "       159.65, 159.0, 159.35, 158.85, 158.8, 160.25, 161.25, 160.25,\n",
              "       157.5, 156.4, 152.35, 153.35, 154.7, 155.55, 156.5, 158.35, 156.3,\n",
              "       156.35, 157.3, 157.45, 160.1, 163.75, 161.65, 160.9, 157.75,\n",
              "       158.25, 155.85, 154.2, 155.25, 159.9, 159.4, 157.85, 156.95,\n",
              "       156.75, 156.95, 154.2, 155.3, 161.0, 161.3, 159.55, 163.35, 163.25,\n",
              "       163.4, 161.1, 158.3, 154.85, 156.0, 155.65, 152.95, 151.6, 144.25,\n",
              "       145.0, 147.5, 147.4, 147.5, 148.3, 146.9, 146.85, 148.65, 149.05,\n",
              "       150.95, 150.7, 152.5, 152.95, 148.15, 148.45, 153.7, 155.6, 157.35,\n",
              "       155.25, 154.85, 155.65, 154.3, 156.55, 156.35, 158.0, 158.85,\n",
              "       161.15, 159.4, 158.75, 158.25, 158.7, 163.6, 160.45, 158.55,\n",
              "       154.75, 152.4, 149.55, 151.55, 154.35, 155.2, 157.4, 155.15,\n",
              "       156.85, 157.0, 159.7, 155.95, 155.55, 153.5, 152.55, 156.05, 154.9,\n",
              "       158.35, 163.55, 158.35, 159.3, 159.05, 157.25, 157.85, 160.0,\n",
              "       154.85, 154.75, 156.7, 155.85, 153.85, 149.95, 147.2, 147.95,\n",
              "       149.0, 147.3, 145.75, 149.75, 148.8, 151.1, 151.45, 151.1, 151.6,\n",
              "       152.05, 161.2, 161.5, 158.95, 159.3, 157.55, 153.25, 150.2, 149.65,\n",
              "       150.2, 147.25, 142.15, 141.95, 142.55, 142.1, 143.55, 144.55,\n",
              "       139.8, 137.75, 141.05, 143.35, 142.85, 144.55, 146.3, 147.4,\n",
              "       147.95, 147.55, 145.95, 146.65, 147.95, 147.45, 148.8, 148.7,\n",
              "       144.9, 146.25, 145.15, 140.8, 137.35, 137.75, 138.5, 134.85,\n",
              "       137.55, 136.6, 134.4, 128.15, 129.1, 128.7, 132.35, 132.6, 133.75,\n",
              "       135.0, 133.85, 133.2, 135.7, 133.85, 129.55, 132.2, 135.55, 137.1,\n",
              "       136.1, 135.0, 138.2, 134.9, 133.95, 134.55, 136.8, 137.05, 138.15,\n",
              "       138.0, 139.0, 141.75, 137.5, 139.5, 140.85, 140.8, 137.55, 137.45,\n",
              "       138.65, 137.15, 140.2, 140.85, 143.3, 142.15, 143.75, 141.95,\n",
              "       138.95, 137.7, 133.05, 130.0, 132.1, 131.0, 134.15, 133.8, 132.9,\n",
              "       130.4, 114.85, 117.55, 117.3, 116.35, 118.15, 119.6, 115.2, 118.85,\n",
              "       124.15, 120.2, 120.45, 120.95, 123.65, 123.75, 123.25, 124.05,\n",
              "       125.4, 123.1, 125.45, 125.5, 123.9, 125.0, 124.2, 127.1, 126.6,\n",
              "       127.8, 130.05, 131.85, 130.55, 133.05, 133.35, 134.7, 134.55,\n",
              "       132.3, 134.0, 134.7, 134.0, 134.7, 139.4, 137.55, 137.8, 138.9,\n",
              "       135.8, 135.6, 135.9, 133.45, 132.65, 131.75, 131.75, 128.0, 125.85,\n",
              "       128.8, 125.7, 127.9, 128.0, 128.15, 132.5, 128.75, 130.9, 133.8,\n",
              "       132.95, 134.35, 134.95, 136.95, 137.55, 136.25, 136.2, 134.9,\n",
              "       133.65, 135.35, 135.0, 132.15, 135.3, 133.2, 134.35, 133.85,\n",
              "       136.55, 142.2, 141.9, 142.9, 141.2, 142.0, 144.8, 144.05, 141.9,\n",
              "       146.35, 146.2, 146.4, 143.7, 148.35, 145.25, 140.05, 144.45, 141.9,\n",
              "       139.5, 135.6, 134.05, 128.5, 121.85, 126.4, 122.55, 121.75, 125.55,\n",
              "       124.3, 124.45, 123.15, 126.5, 126.6, 124.25, 121.75, 121.6, 122.5,\n",
              "       123.9, 120.75, 118.35, 105.25, 104.3, 106.0, 102.65, 104.0, 104.55,\n",
              "       107.3, 109.1, 106.65, 106.7, 106.2, 104.75, 103.55, 108.9, 109.9,\n",
              "       109.5, 113.25, 115.65, 116.85, 116.45, 115.85, 115.65, 115.45,\n",
              "       115.1, 115.8, 118.9, 119.9, 121.4, 119.45, 119.4, 119.3, 121.4,\n",
              "       121.25, 122.55, 121.2, 118.25, 118.85, 118.7, 117.7, 119.5, 118.35,\n",
              "       120.65, 120.0, 121.85, 120.1, 120.25, 121.2, 121.8, 122.4, 120.3,\n",
              "       120.05, 121.1, 119.45, 116.95, 116.35, 118.1, 118.75, 118.2, 117.3,\n",
              "       118.95, 119.55, 120.65, 120.35, 120.95, 119.95, 120.05, 120.4,\n",
              "       121.75, 119.5, 118.6, 117.3, 117.95, 117.75, 118.05, 119.25, 120.2,\n",
              "       119.3, 119.35, 124.4, 124.95, 123.65, 128.15, 126.5, 127.0, 126.1,\n",
              "       125.7, 126.15, 125.45, 127.25, 126.75, 124.25, 125.95, 127.85,\n",
              "       129.7, 131.2, 134.9, 134.1, 133.9, 134.45, 132.6, 133.1, 132.9,\n",
              "       132.15, 132.6, 132.6, 129.95, 130.05, 133.85, 131.8, 131.5, 133.45,\n",
              "       131.15, 137.45, 140.15, 142.15, 141.0, 138.4, 135.75, 138.3, 139.1,\n",
              "       142.9, 143.25, 137.75, 137.3, 136.95, 138.05, 137.65, 138.85,\n",
              "       141.25, 138.4, 139.6, 140.25, 140.45, 139.9, 139.0, 140.2, 140.25,\n",
              "       141.1, 141.6, 141.75, 142.2, 142.2, 139.7, 135.3, 137.45, 137.0,\n",
              "       139.85, 139.9, 138.0, 138.05, 138.9, 142.4, 140.65, 144.55, 146.75,\n",
              "       137.0, 139.6, 142.35, 141.8, 153.3, 150.9, 151.25, 151.65, 147.85,\n",
              "       153.2, 150.25, 151.9, 154.6, 152.35, 152.5, 154.05, 150.0, 145.4,\n",
              "       137.75, 139.95, 139.4, 138.6, 134.95, 131.35, 126.85, 128.0,\n",
              "       127.45, 121.9, 125.4, 118.65, 117.0, 121.3, 118.6, 120.1, 115.65,\n",
              "       117.3, 117.65, 115.1, 118.5, 120.95, 121.95, 123.85, 121.9, 121.55,\n",
              "       123.65, 123.4, 122.3, 123.85, 123.9, 123.35, 123.35, 122.75,\n",
              "       124.45, 124.3, 124.3, 121.25, 121.6, 119.4, 118.85, 117.0, 120.55,\n",
              "       119.6, 121.1, 122.0, 123.55, 124.45, 124.45, 125.2, 124.65, 124.75,\n",
              "       124.45, 127.55, 125.15, 128.35, 127.65, 127.6, 128.65, 130.5,\n",
              "       126.4, 127.9, 128.45, 128.35, 129.2, 130.45, 128.85, 130.1, 137.65,\n",
              "       141.85, 142.75, 141.65, 146.15, 143.9, 143.95, 141.95, 141.2,\n",
              "       138.75, 140.1, 140.15, 141.6, 141.6, 140.0, 139.25, 138.9, 138.05,\n",
              "       143.6, 141.1, 143.35, 143.25, 142.75, 141.4, 140.8, 137.1, 139.5,\n",
              "       140.9, 144.7, 144.8, 146.45, 145.9, 143.1, 151.6, 151.15, 148.6,\n",
              "       150.55, 150.6, 150.15, 150.55, 151.9, 152.65, 153.05, 150.6,\n",
              "       150.95, 153.4, 151.75, 150.5, 149.45, 148.15, 150.2, 152.15, 151.3,\n",
              "       151.95, 151.7, 153.75, 152.1, 153.1, 157.7, 156.2, 155.35, 152.3,\n",
              "       152.6, 154.05, 154.85, 154.0, 152.65, 154.6, 154.45, 152.85, 147.5,\n",
              "       149.5, 147.8, 144.75, 141.7, 143.05, 146.9, 145.4, 145.55, 149.4,\n",
              "       152.4, 154.85, 154.95, 153.0, 155.55, 154.6, 154.4, 152.1, 156.45,\n",
              "       158.45, 159.1, 158.2, 156.4, 156.85, 156.8, 154.75, 151.15, 147.35,\n",
              "       149.15, 148.5, 150.65, 151.6, 150.05, 156.15, 153.35, 157.75,\n",
              "       166.55, 169.5, 173.75, 175.4, 174.2, 177.0, 173.75, 175.15, 171.3,\n",
              "       172.2, 170.0, 171.15, 172.2, 168.4, 169.15, 169.55, 167.5, 165.1,\n",
              "       166.65, 166.45, 170.45, 166.0, 162.1, 156.0, 164.2, 178.75, 193.85,\n",
              "       190.6, 194.4, 196.15, 189.85, 196.55, 194.25, 193.3, 190.35,\n",
              "       197.05, 198.0, 197.6, 193.3, 196.7, 205.95, 205.75, 206.9, 209.25,\n",
              "       212.05, 207.3, 212.05, 210.55, 213.3, 216.2, 213.7, 212.2, 201.15,\n",
              "       196.65, 204.65, 198.6, 203.15, 205.8, 206.45, 204.95, 209.45,\n",
              "       209.6], dtype=object)"
            ]
          },
          "metadata": {
            "tags": []
          },
          "execution_count": 21
        }
      ]
    },
    {
      "cell_type": "code",
      "metadata": {
        "id": "04imPDAj9xWj",
        "colab": {
          "base_uri": "https://localhost:8080/"
        },
        "outputId": "5bc08902-422c-4a3e-9f64-b8d7752a3a44"
      },
      "source": [
        "valid_data"
      ],
      "execution_count": 22,
      "outputs": [
        {
          "output_type": "execute_result",
          "data": {
            "text/plain": [
              "array([208.3, 208.45, 209.4, 212.0, 210.25, 209.6, 210.3, 206.8, 204.6,\n",
              "       203.1, 209.65, 205.3, 209.8, 220.5, 226.8, 226.95, 227.8, 226.35,\n",
              "       225.3, 234.7, 225.0, 224.5, 240.45, 236.15, 234.4, 246.7, 250.9,\n",
              "       251.95, 259.9, 274.9, 273.15, 274.05, 274.8, 278.7, 277.45, 287.75,\n",
              "       280.2, 287.1, 283.55, 279.05, 279.95, 274.95, 284.0, 288.45,\n",
              "       298.35, 287.8, 284.45, 284.3, 286.85, 290.85, 300.65, 300.85,\n",
              "       300.15, 302.75, 305.95, 305.55, 306.6, 316.4, 312.9, 311.15, 311.2,\n",
              "       312.25, 312.95, 317.6, 315.3, 314.1, 313.3, 325.75, 323.0, 316.4,\n",
              "       313.55, 305.45, 308.35, 308.85, 307.2, 304.25, 304.25, 301.8,\n",
              "       304.0, 290.65, 288.35, 274.85, 273.1, 266.7, 280.15, 280.45,\n",
              "       278.25, 285.1, 281.95, 279.05, 275.6, 267.95, 262.85, 266.6,\n",
              "       262.15, 270.7, 273.5, 275.0, 275.5, 274.85, 275.65, 274.15, 268.9,\n",
              "       273.4, 268.35, 276.05, 278.2, 278.5, 279.6, 272.4, 260.6, 262.05,\n",
              "       263.2, 258.85, 257.9, 262.2, 263.8, 258.75, 276.95, 274.8, 270.25,\n",
              "       273.0, 272.7, 277.8, 275.5, 273.85, 273.85, 275.5, 279.65, 280.95,\n",
              "       284.1, 286.2, 286.3, 283.6, 283.15, 289.1, 291.2, 292.1, 297.55,\n",
              "       292.75, 286.65, 287.8, 294.2, 289.7, 292.0, 285.25, 287.5, 255.9,\n",
              "       242.65, 241.1, 247.5, 244.7, 243.55, 247.15, 250.2, 254.5, 257.85,\n",
              "       260.65, 257.5, 264.5, 269.2, 263.25, 255.25, 263.75, 265.75, 267.1,\n",
              "       266.95, 263.7, 267.6, 269.6, 277.8, 272.15, 275.35, 267.05, 260.85,\n",
              "       258.2, 262.1, 264.5, 267.35, 265.6, 263.95, 269.35, 264.45, 281.0,\n",
              "       277.3, 271.25, 266.3, 275.25, 274.75, 269.8, 265.2, 258.9, 243.25,\n",
              "       247.9, 238.65, 233.1, 238.6, 243.3, 246.3, 236.9, 239.1, 242.25,\n",
              "       242.2, 246.9, 235.65, 235.45, 234.65, 239.5, 237.6, 236.35, 237.3,\n",
              "       233.55, 234.55, 237.55, 239.35, 243.0, 245.15, 240.55, 235.45,\n",
              "       231.0, 237.05, 233.35, 234.55, 236.0, 234.3, 236.7, 223.7, 222.4,\n",
              "       221.05, 222.95, 222.0, 216.0, 222.65, 233.95, 236.6, 235.05, 234.9,\n",
              "       234.6, 233.3, 236.1, 234.25, 233.25, 233.75, 230.9, 227.6, 218.2,\n",
              "       209.2, 215.15], dtype=object)"
            ]
          },
          "metadata": {
            "tags": []
          },
          "execution_count": 22
        }
      ]
    },
    {
      "cell_type": "code",
      "metadata": {
        "colab": {
          "base_uri": "https://localhost:8080/"
        },
        "id": "_m7YplHe91nf",
        "outputId": "b11bf449-ac26-4b93-b848-3a1713c764b8"
      },
      "source": [
        "# Build and train the LSTM model:\n",
        "lstm_model=Sequential()\n",
        "lstm_model.add(LSTM(units=50,return_sequences=True,input_shape=(x_train_data.shape[1],1)))\n",
        "lstm_model.add(LSTM(units=50))\n",
        "lstm_model.add(Dense(1))\n",
        "\n",
        "\n",
        "inputs_data=new_dataset[len(new_dataset)-len(valid_data)-60:].values\n",
        "inputs_data=inputs_data.reshape(-1,1)\n",
        "inputs_data=scaler.transform(inputs_data)\n",
        "\n",
        "\n",
        "lstm_model.compile(optimizer='Adam', loss='mean_squared_error')\n",
        "lstm_model.fit(x_train_data, y_train_data, epochs=1, batch_size=1, verbose=2)"
      ],
      "execution_count": 23,
      "outputs": [
        {
          "output_type": "stream",
          "text": [
            "927/927 - 19s - loss: 0.0013\n"
          ],
          "name": "stdout"
        },
        {
          "output_type": "execute_result",
          "data": {
            "text/plain": [
              "<tensorflow.python.keras.callbacks.History at 0x7f459ab242d0>"
            ]
          },
          "metadata": {
            "tags": []
          },
          "execution_count": 23
        }
      ]
    },
    {
      "cell_type": "code",
      "metadata": {
        "id": "RLZKHeZFGgRb"
      },
      "source": [
        "# Take a sample of a dataset to make stock price predictions using the LSTM model:\n",
        "\n",
        "X_test=[]\n",
        "\n",
        "for i in range(60,inputs_data.shape[0]):\n",
        "    X_test.append(inputs_data[i-60:i,0])\n",
        "X_test=np.array(X_test)\n",
        "\n",
        "\n",
        "X_test=np.reshape(X_test,(X_test.shape[0],X_test.shape[1],1))\n",
        "predicted_closing_price=lstm_model.predict(X_test)\n",
        "predicted_closing_price=scaler.inverse_transform(predicted_closing_price)"
      ],
      "execution_count": 24,
      "outputs": []
    },
    {
      "cell_type": "code",
      "metadata": {
        "id": "-XSXqUxxII5b"
      },
      "source": [
        "# Save the LSTM model:\n",
        "\n",
        "lstm_model.save(\"saved_model.h5\")"
      ],
      "execution_count": 25,
      "outputs": []
    },
    {
      "cell_type": "code",
      "metadata": {
        "colab": {
          "base_uri": "https://localhost:8080/",
          "height": 399
        },
        "id": "aR1oeVRvIP7b",
        "outputId": "f91a3eb1-c4a6-40d2-c1fc-f767138e4251"
      },
      "source": [
        "# Visualize the predicted stock costs with actual stock costs:\n",
        "\n",
        "train_data=new_dataset[:987]\n",
        "valid_data=new_dataset[987:]\n",
        "valid_data['Predictions']=predicted_closing_price\n",
        "plt.plot(train_data[\"Close\"])\n",
        "plt.plot(valid_data[['Close',\"Predictions\"]])"
      ],
      "execution_count": 26,
      "outputs": [
        {
          "output_type": "stream",
          "text": [
            "/usr/local/lib/python3.7/dist-packages/ipykernel_launcher.py:5: SettingWithCopyWarning: \n",
            "A value is trying to be set on a copy of a slice from a DataFrame.\n",
            "Try using .loc[row_indexer,col_indexer] = value instead\n",
            "\n",
            "See the caveats in the documentation: https://pandas.pydata.org/pandas-docs/stable/user_guide/indexing.html#returning-a-view-versus-a-copy\n",
            "  \"\"\"\n"
          ],
          "name": "stderr"
        },
        {
          "output_type": "execute_result",
          "data": {
            "text/plain": [
              "[<matplotlib.lines.Line2D at 0x7f45976302d0>,\n",
              " <matplotlib.lines.Line2D at 0x7f4597630490>]"
            ]
          },
          "metadata": {
            "tags": []
          },
          "execution_count": 26
        },
        {
          "output_type": "display_data",
          "data": {
            "image/png": "[encoded data removed]",
            "text/plain": [
              "<Figure size 432x288 with 1 Axes>"
            ]
          },
          "metadata": {
            "tags": [],
            "needs_background": "light"
          }
        }
      ]
    },
    {
      "cell_type": "code",
      "metadata": {
        "id": "Q4b6BSG2Ib9y"
      },
      "source": [
        ""
      ],
      "execution_count": null,
      "outputs": []
    }
  ]
}